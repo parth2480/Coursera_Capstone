{
 "cells": [
  {
   "cell_type": "markdown",
   "metadata": {},
   "source": [
    "<h2>Data</h2>"
   ]
  },
  {
   "cell_type": "markdown",
   "metadata": {},
   "source": [
    "The main datasource I will be using for this project is the Foursquare API which will provide me with location data for all venues within a specific area."
   ]
  },
  {
   "cell_type": "markdown",
   "metadata": {},
   "source": [
    "The placement of different venues such as cinemas, department stores and cafes affect the type of people that live in the neighbourhoods and I will use the venue data provided by the Foursquare API to group together different neighbourhoods by how the venues within them vary.\n",
    "This will allow me to compare the spread of neighbourhoods to the city that the business currently resides it and if the same marketing techniques that currently work will work within the new city."
   ]
  },
  {
   "cell_type": "markdown",
   "metadata": {},
   "source": [
    "K means clustering will enable me to cluster the similar neighbourhoods together after finding the most popular venues within the nearby area."
   ]
  },
  {
   "cell_type": "markdown",
   "metadata": {},
   "source": [
    "Visualising the clusters will then allow me to inform the business how to allocate their advertising to the correct areas to save costs and also be able to expand within the correct areas."
   ]
  }
 ],
 "metadata": {
  "kernelspec": {
   "display_name": "Python 3",
   "language": "python",
   "name": "python3"
  },
  "language_info": {
   "codemirror_mode": {
    "name": "ipython",
    "version": 3
   },
   "file_extension": ".py",
   "mimetype": "text/x-python",
   "name": "python",
   "nbconvert_exporter": "python",
   "pygments_lexer": "ipython3",
   "version": "3.7.4"
  }
 },
 "nbformat": 4,
 "nbformat_minor": 2
}
