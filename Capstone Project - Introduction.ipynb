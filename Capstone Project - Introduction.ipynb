{
 "cells": [
  {
   "cell_type": "markdown",
   "metadata": {},
   "source": [
    "<h2>Introduction</h2>"
   ]
  },
  {
   "cell_type": "markdown",
   "metadata": {},
   "source": [
    "The main aim of this project will be to compare the neighbourhoods of two different areas and compare how similar they are."
   ]
  },
  {
   "cell_type": "markdown",
   "metadata": {},
   "source": [
    "When a relatively large business intends to expand and is considering where to expand to, they need to consider multiple factors. Does the new area have a need for the type of business? How is the local business compared to the current business?"
   ]
  },
  {
   "cell_type": "markdown",
   "metadata": {},
   "source": [
    "One of the main factors is how can the business advertise its prescence to the target audience without allocating too much money to advertising. An optimal solution to this problem is to advertise in areas where your target audience is likely to be."
   ]
  },
  {
   "cell_type": "markdown",
   "metadata": {},
   "source": [
    "If we compare the neighbourhoods of two different cities and we find that the target audience is mainly within the outskirts of a city, we can limit the advertisements to the edge of the city whereby saving a large amount of money and also being able to target the people most likely to purchase the product."
   ]
  }
 ],
 "metadata": {
  "kernelspec": {
   "display_name": "Python 3",
   "language": "python",
   "name": "python3"
  },
  "language_info": {
   "codemirror_mode": {
    "name": "ipython",
    "version": 3
   },
   "file_extension": ".py",
   "mimetype": "text/x-python",
   "name": "python",
   "nbconvert_exporter": "python",
   "pygments_lexer": "ipython3",
   "version": "3.7.4"
  }
 },
 "nbformat": 4,
 "nbformat_minor": 2
}
